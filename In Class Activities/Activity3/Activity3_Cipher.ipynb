{
 "cells": [
  {
   "cell_type": "markdown",
   "id": "ffb2ba37",
   "metadata": {},
   "source": [
    "Method1 to encrypt given message"
   ]
  },
  {
   "cell_type": "code",
   "execution_count": 2,
   "id": "2c36b032",
   "metadata": {},
   "outputs": [],
   "source": [
    "import string "
   ]
  },
  {
   "cell_type": "code",
   "execution_count": 70,
   "id": "19e31408",
   "metadata": {},
   "outputs": [],
   "source": [
    "def cipher_encrypt(message, key):\n",
    "    # creates alphabet\n",
    "    chars = string.ascii_uppercase\n",
    "    # save param message into encrypt uppercase\n",
    "    encrypt = message.upper()\n",
    "    # variable to hold result\n",
    "    result = \"\"\n",
    "    # loop for iterating through message\n",
    "    for char in encrypt:\n",
    "        # check if char in param message is actually a letter\n",
    "        if char in chars:\n",
    "            # find and save proper letter from key for shifting\n",
    "            index = (chars.find(char) + key) % 26\n",
    "            # save resulting letter after shift\n",
    "            result = result + chars[index]\n",
    "        else:\n",
    "            # if char in param is not a letter, just let it through or else it's removed\n",
    "            result = result+char\n",
    "        \n",
    "    return result"
   ]
  },
  {
   "cell_type": "code",
   "execution_count": 73,
   "id": "b838b690",
   "metadata": {},
   "outputs": [
    {
     "data": {
      "text/plain": [
       "'OLSSV'"
      ]
     },
     "execution_count": 73,
     "metadata": {},
     "output_type": "execute_result"
    }
   ],
   "source": [
    "cipher_encrypt(\"Hello\", 7)"
   ]
  },
  {
   "cell_type": "code",
   "execution_count": 72,
   "id": "b4976e9f",
   "metadata": {},
   "outputs": [],
   "source": [
    "def cipher_decrypt(message, key):\n",
    "    # creates alphabet\n",
    "    chars = string.ascii_uppercase\n",
    "    # save param message into decrypt uppercase\n",
    "    decrypt = message.upper()\n",
    "    # variable to hold result\n",
    "    result = \"\"\n",
    "    # loop for iterating through message\n",
    "    for char in decrypt:\n",
    "        # check if char in param message is actually a letter\n",
    "        if char in chars:\n",
    "            # find and save proper letter from key for shifting\n",
    "            index = (chars.find(char) - key) % 26\n",
    "            # save resulting letter after shift\n",
    "            result = result + chars[index]\n",
    "        else:\n",
    "            # if char in param is not a letter, just let it through or else it's removed\n",
    "            result = result+char\n",
    "        \n",
    "    return result"
   ]
  },
  {
   "cell_type": "code",
   "execution_count": 74,
   "id": "0a52e417",
   "metadata": {},
   "outputs": [
    {
     "data": {
      "text/plain": [
       "'HELLO'"
      ]
     },
     "execution_count": 74,
     "metadata": {},
     "output_type": "execute_result"
    }
   ],
   "source": [
    "cipher_decrypt(\"OLSSV\", 7)"
   ]
  },
  {
   "cell_type": "code",
   "execution_count": null,
   "id": "eb815bf9",
   "metadata": {},
   "outputs": [],
   "source": []
  }
 ],
 "metadata": {
  "kernelspec": {
   "display_name": "Python 3.9 (pythonForCyber)",
   "language": "python",
   "name": "pythonforcyber"
  },
  "language_info": {
   "codemirror_mode": {
    "name": "ipython",
    "version": 3
   },
   "file_extension": ".py",
   "mimetype": "text/x-python",
   "name": "python",
   "nbconvert_exporter": "python",
   "pygments_lexer": "ipython3",
   "version": "3.9.19"
  }
 },
 "nbformat": 4,
 "nbformat_minor": 5
}
