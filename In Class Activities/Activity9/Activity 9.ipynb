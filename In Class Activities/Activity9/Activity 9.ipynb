{
 "cells": [
  {
   "cell_type": "code",
   "execution_count": 75,
   "id": "f41df2c6",
   "metadata": {},
   "outputs": [],
   "source": [
    "\"\"\"\n",
    "Web scrapping in Python\n",
    "This is an example of scrapping a web page in Python using requests and lxml\n",
    "\n",
    "\"\"\"\n",
    "import requests\n",
    "from lxml import html\n",
    "\n",
    "\n",
    "def get_web_tree(link):\n",
    "    \"\"\"\n",
    "    This method gets a web page from the specified url, and returns a tree of all elements in the page\n",
    "    :param link: The webpage to access and process\n",
    "    :return: The tree element created from the page\n",
    "    \"\"\"\n",
    "    # Welcome message\n",
    "    #print('Obtaining the page: ', //*[@id=\"bugzilla-body\"]/div[1]/spanstr(link))\n",
    "    # get the page\n",
    "    page = requests.get(link)\n",
    "    # get the elements from the page\n",
    "    page_tree = html.fromstring(page.content)\n",
    "    # return the tree of the web page\n",
    "    return page_tree\n"
   ]
  },
  {
   "cell_type": "code",
   "execution_count": 76,
   "id": "50852205",
   "metadata": {},
   "outputs": [],
   "source": [
    "url = \"https://bugzilla.redhat.com/buglist.cgi?bug_status=__closed__&bug_status=CLOSED&classification=Fedora&limit=0&order=priority%2Cbug_severity&product=Fedora&query_format=advanced&resolution=WONTFIX&resolution=DEFERRED&resolution=CURRENTRELEASE&resolution=ERRATA&resolution=NEXTRELEASE&resolution=RAWHIDE&resolution=UPSTREAM\""
   ]
  },
  {
   "cell_type": "code",
   "execution_count": 77,
   "id": "409b50b1",
   "metadata": {},
   "outputs": [
    {
     "name": "stdout",
     "output_type": "stream",
     "text": [
      "<bound method _Element.xpath of <Element html at 0x7ffb2c7dcf90>>\n"
     ]
    }
   ],
   "source": [
    "main_tree = get_web_tree(url)\n",
    "print(main_tree.xpath)"
   ]
  },
  {
   "cell_type": "code",
   "execution_count": 78,
   "id": "436c10f1",
   "metadata": {},
   "outputs": [
    {
     "name": "stdout",
     "output_type": "stream",
     "text": [
      "['Tue Nov 12 2024 14:15:07 UTC', '\\n  ']\n"
     ]
    }
   ],
   "source": [
    "data = main_tree.xpath('/html/body/div[2]/div[1]/span/text()')\n",
    "print(data)"
   ]
  },
  {
   "cell_type": "code",
   "execution_count": 90,
   "id": "51dae560",
   "metadata": {},
   "outputs": [
    {
     "name": "stdout",
     "output_type": "stream",
     "text": [
      "['\\n        ', '\\n\\n      ']\n"
     ]
    }
   ],
   "source": [
    "data = main_tree.xpath('/html/body/div[2]/div[3]/div[1]/text()')\n",
    "print(data)"
   ]
  },
  {
   "cell_type": "code",
   "execution_count": null,
   "id": "876e69aa",
   "metadata": {},
   "outputs": [],
   "source": []
  }
 ],
 "metadata": {
  "kernelspec": {
   "display_name": "Python 3.9 (pythonForCyber)",
   "language": "python",
   "name": "pythonforcyber"
  },
  "language_info": {
   "codemirror_mode": {
    "name": "ipython",
    "version": 3
   },
   "file_extension": ".py",
   "mimetype": "text/x-python",
   "name": "python",
   "nbconvert_exporter": "python",
   "pygments_lexer": "ipython3",
   "version": "3.9.19"
  }
 },
 "nbformat": 4,
 "nbformat_minor": 5
}
